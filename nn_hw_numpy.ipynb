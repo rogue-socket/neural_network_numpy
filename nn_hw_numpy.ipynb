{
 "cells": [
  {
   "metadata": {
    "collapsed": true,
    "ExecuteTime": {
     "end_time": "2025-03-02T11:08:43.913988Z",
     "start_time": "2025-03-02T11:08:42.908956Z"
    }
   },
   "cell_type": "code",
   "source": [
    "import random\n",
    "import cupy as cp\n",
    "import numpy as np\n",
    "import matplotlib.pyplot as plt\n",
    "import json"
   ],
   "id": "initial_id",
   "outputs": [],
   "execution_count": 1
  },
  {
   "metadata": {
    "ExecuteTime": {
     "end_time": "2025-03-02T11:11:50.596333Z",
     "start_time": "2025-03-02T11:11:49.992865Z"
    }
   },
   "cell_type": "code",
   "outputs": [],
   "execution_count": 13,
   "source": [
    "# Loading the data\n",
    "import pickle\n",
    "import gzip\n",
    "\n",
    "def load_data():\n",
    "    f = gzip.open('mnist.pkl.gz', 'rb')\n",
    "    u = pickle._Unpickler(f)\n",
    "    u.encoding = 'latin1'\n",
    "    training_data, validation_data, test_data = u.load()\n",
    "    f.close()\n",
    "    return training_data, validation_data, test_data\n",
    "\n",
    "data = load_data()\n",
    "\n",
    "training_data = data[0]\n",
    "testing_data = data[1]\n",
    "\n",
    "training_data_inputs = training_data[0]\n",
    "training_data_outputs = training_data[1]\n",
    "\n",
    "prepped_training_data_inputs = np.array([np.reshape(elem, (784, 1)) for elem in training_data_inputs])\n",
    "\n",
    "prepped_training_data_outputs = np.zeros((50000, 10, 1))\n",
    "prepped_training_data_outputs[np.arange(50000), training_data_outputs, 0] = 1\n",
    "\n",
    "prepped_training_data = [(a, b) for a, b in zip(prepped_training_data_inputs, prepped_training_data_outputs)]"
   ],
   "id": "2c43b163104e388e"
  },
  {
   "metadata": {
    "ExecuteTime": {
     "end_time": "2025-03-02T11:11:51.717932Z",
     "start_time": "2025-03-02T11:11:51.690769Z"
    }
   },
   "cell_type": "code",
   "outputs": [],
   "execution_count": 14,
   "source": [
    "# Prepping the testing data\n",
    "testing_data_inputs = testing_data[0]\n",
    "prepped_testing_data_inputs = np.array([np.reshape(elem, (784, 1)) for elem in testing_data_inputs])\n",
    "prepped_testing_data_outputs = testing_data[1]\n",
    "# img_array = np.reshape(prepped_testing_data_inputs[88], (28, 28))\n",
    "# display_image(img_array)\n",
    "prepped_testing_data = list(zip(prepped_testing_data_inputs, prepped_testing_data_outputs))"
   ],
   "id": "fc05516d2f92b7ac"
  },
  {
   "metadata": {
    "ExecuteTime": {
     "end_time": "2025-03-02T11:08:44.455321Z",
     "start_time": "2025-03-02T11:08:44.451311Z"
    }
   },
   "cell_type": "code",
   "outputs": [],
   "execution_count": 2,
   "source": [
    "# Visualisation\n",
    "def display_image(array):\n",
    "    if array.shape != (28, 28):\n",
    "        raise ValueError(\"Input array must be 28x28 in shape.\")\n",
    "\n",
    "    plt.imshow(array, cmap='gray', interpolation='nearest')\n",
    "    plt.axis('off')  # Hide axis for better visualization\n",
    "    plt.show()"
   ],
   "id": "b704362145e67a34"
  },
  {
   "metadata": {
    "ExecuteTime": {
     "end_time": "2025-03-02T11:08:45.740990Z",
     "start_time": "2025-03-02T11:08:45.736956Z"
    }
   },
   "cell_type": "code",
   "outputs": [],
   "execution_count": 3,
   "source": [
    "def softmax(x):\n",
    "    x_exp = np.exp(x - np.max(x))  # Stabilized exponentiation\n",
    "    return x_exp / np.sum(x_exp)"
   ],
   "id": "bf3664adfb085eb2"
  },
  {
   "metadata": {
    "ExecuteTime": {
     "end_time": "2025-03-02T11:08:46.418216Z",
     "start_time": "2025-03-02T11:08:46.415094Z"
    }
   },
   "cell_type": "code",
   "outputs": [],
   "execution_count": 4,
   "source": [
    "def cost_derivative(activation, y):\n",
    "    return activation - y"
   ],
   "id": "3da02005802af1b1"
  },
  {
   "metadata": {
    "ExecuteTime": {
     "end_time": "2025-03-02T11:11:06.361566Z",
     "start_time": "2025-03-02T11:11:06.343486Z"
    }
   },
   "cell_type": "code",
   "outputs": [],
   "execution_count": 11,
   "source": [
    "def sigmoid(z):\n",
    "    return 1.0/ (1.0 + np.exp(-z))\n",
    "\n",
    "\n",
    "def sigmoid_prime(z):\n",
    "    return sigmoid(z) * (1 - sigmoid(z))\n",
    "\n",
    "\n",
    "class Network(object):\n",
    "    def __init__(self, sizes):\n",
    "        \"\"\"\n",
    "        creates the network\n",
    "        :param sizes: list containing the number of neurons in each layer, eg: [2, 3, 1] -> 2 neurons, 3 neurons, 1 neuron\n",
    "        \"\"\"\n",
    "        self.num_layers = len(sizes)    # gives the number of layers of neurons\n",
    "        self.sizes = sizes              # stores the sizes\n",
    "        self.biases = [np.random.randn(y, 1) for y in sizes[1:]]\n",
    "        # stores the random biases: [np.array([[-1.2323], [2.3434], ...]),\n",
    "        #                           np.array([-1.2323], [2.3434], ...)] depending upon sizes, total sizes - 1 elements, each with y elements(for y in sizes[1:])\n",
    "        self.weights = [np.random.randn(y, x) for x, y in zip(sizes[:-1], sizes[1:])]\n",
    "        # stores the random weights, initialised such that there is a weight for each of the connections\n",
    "        # if we take the [2, 3, 1] example, we have the following zips: (2, 3), (3, 1) -> we get [3 elems of 2 random values in each] + [1 elem with 3 random values in it] =>\n",
    "        #                                                                                           [np.array([1.2, 2.3], np.array([4.5, 4.5]), np.array([5.6, 7.8]), np.array([3.3, 7.7, 9.9])]\n",
    "        self.accuracy = []\n",
    "\n",
    "    def print_everything(self):\n",
    "        print(f\"number of layers: {self.num_layers}\")\n",
    "        print(f\"sizes: {self.sizes}\")\n",
    "        print(f\"biases: {self.biases}\")\n",
    "        print(f\"weights: {self.weights}\")\n",
    "\n",
    "    def feedforward(self, a):\n",
    "        \"\"\"\n",
    "        calculates the output, given 'a' as input, essentially turning the network on\n",
    "        :param a: a numpy array of shape: (n, 1), for handwriting detection, would be a single column array with the pixel values\n",
    "        :return: returns a numpy array with sizes[-1] values\n",
    "        \"\"\"\n",
    "        # print(f\"The shape of the input 'a' is: {a.shape}, should of the format (n, 1)\")\n",
    "        a = np.reshape(a, (self.sizes[0], 1))\n",
    "        # print(f\"The shape of the input 'a' is: {a.shape}, should of the format (n, 1)\")\n",
    "        for b, w in zip(self.biases[:-1], self.weights[:-1]):\n",
    "            a = sigmoid(cp.dot(w, a) + b)\n",
    "            # print(f\"a: {a}\")\n",
    "        a = softmax(cp.dot(self.weights[-1], a) + self.biases[-1])\n",
    "        return a\n",
    "\n",
    "    def stochastic_gd(self, training_data, epochs, mini_batch_size, eta, test_data=None):\n",
    "        \"\"\"\n",
    "        Training the neural network using the stochastic gradient descent. Stochastic => batches of data.\n",
    "\n",
    "        Working:\n",
    "            for each epoch, it randomly shuffles the data, partitions it into the appropriate size of batches, and for each mini_batch we apply 1 step of gradient descent\n",
    "            the single step of gradient descent is done by the step \"self.update_mini_batch(mini_batch, eta)\" -> updating the network's weights and biases\n",
    "        :param training_data: list of tuples (x, y) representing training inputs and desired outputs\n",
    "        :param epochs: the number of epochs to train for\n",
    "        :param mini_batch_size: the size of the mini_batches to use for training\n",
    "        :param eta: the learning rate\n",
    "        :param test_data: if provided, then the network will be evaluated against the test data after each epoch, and partial progress will be printed out, this is slow\n",
    "        :return: None, updates the neural network's weights and biases\n",
    "        \"\"\"\n",
    "        if test_data:\n",
    "            n_test = len(test_data)\n",
    "        n = len(training_data)\n",
    "        for j in range(epochs):\n",
    "            random.shuffle(training_data)\n",
    "            mini_batches = [training_data[k: k + mini_batch_size] for k in range(0, n, mini_batch_size)]\n",
    "            for mini_batch in mini_batches:\n",
    "                self.update_mini_batch(mini_batch, eta)\n",
    "            if test_data:\n",
    "                passed = self.evaluate(test_data)\n",
    "                print(f\"Epoch {j}: {passed}/{n_test}\")\n",
    "                self.accuracy.append(passed/n_test)\n",
    "            else:\n",
    "                print(f\"Epoch {j} completed\")\n",
    "\n",
    "\n",
    "    def evaluate(self, testing_data):\n",
    "        \"\"\"\n",
    "        evaluates the model after every single epoch.\n",
    "        :param testing_data: list of tuples (x, y) of testing data, x is the np array of the image, y is the expected output, a number from [0 - 9]\n",
    "        :return: the total number of correct matches\n",
    "        \"\"\"\n",
    "        matches = 0\n",
    "        for i, data in enumerate(testing_data):\n",
    "            temp = self.feedforward(data[0])\n",
    "            predicted_number = np.argmax(temp)\n",
    "            # print(f\"predicted_number: {predicted_number}, actual_number: {data[1]}\")\n",
    "            if predicted_number == data[1]:\n",
    "                matches += 1\n",
    "        return matches\n",
    "\n",
    "\n",
    "    def update_mini_batch(self, mini_batch, eta):\n",
    "        \"\"\"\n",
    "        Update the network's weights and biases by applying gradient descent using backprop, to a single mini_batch.\n",
    "        :param mini_batch: list of tuples, (x, y)\n",
    "        :param eta: learning rate eta\n",
    "        :return:\n",
    "        \"\"\"\n",
    "        nabla_b = [np.zeros(b.shape) for b in self.biases]\n",
    "        nabla_w = [np.zeros(w.shape) for w in self.weights]\n",
    "        for x, y in mini_batch:\n",
    "            delta_nabla_b, delta_nabla_w = self.backprop(x, y)\n",
    "            nabla_b = [nb + dnb for nb, dnb in zip(nabla_b, delta_nabla_b)]\n",
    "            nabla_w = [nw + dnw for nw, dnw in zip(nabla_w, delta_nabla_w)]\n",
    "        self.weights = [w - (eta/len(mini_batch)) * nw for w, nw in zip(self.weights, nabla_w)]\n",
    "        self.biases = [b - (eta/len(mini_batch)) * nb for b, nb in zip(self.biases, nabla_b)]\n",
    "\n",
    "    def backprop(self, x, y):\n",
    "        \"\"\"\n",
    "\n",
    "        :param x: input to the neural network, for handwriting NN example, array of pixel activation values\n",
    "        :param y: the labelled output of what x should be, for handwriting NN example, a single digit [0-9]\n",
    "        :return: a tuple (nabla_b, nabla_w) representing the gradient of the cost_function (gradient of cost_function calculates in which direction it increases the most)\n",
    "                nabla_b and nabla_w are lists for each layer, just like self.weights and self.biases\n",
    "        \"\"\"\n",
    "        nabla_b = [np.zeros(b.shape) for b in self.biases]\n",
    "        nabla_w = [np.zeros(w.shape) for w in self.weights]\n",
    "\n",
    "        # feedforward to get the prediction of the NN for the given x input\n",
    "        x = np.reshape(x, (self.sizes[0], 1))\n",
    "        activation = x  # currently stores the input as the activation of layer 0\n",
    "        activations = [x] # list to store all the activations, layer by layer, already consists of activation of layer 0, the input\n",
    "        zs = [] # list to store all the z vectors, layer by layer\n",
    "        for b, w in zip(self.biases, self.weights):\n",
    "            z = np.dot(w, activation) + b\n",
    "            zs.append(z)\n",
    "            activation = sigmoid(z)\n",
    "            activations.append(activation)\n",
    "\n",
    "        # backward pass\n",
    "        delta = cost_derivative(activations[-1], y) * sigmoid_prime(zs[-1])\n",
    "        nabla_b[-1] = delta\n",
    "        nabla_w[-1] = np.dot(delta, activations[-2].transpose())        # this is completely relying on the fact that the orders work, fix this\n",
    "\n",
    "        for l in range(2, self.num_layers):\n",
    "            # l ranges from 2 all the way till number of layers - 1, so if total number of layers = 3, so, l = 2... that's it\n",
    "            z = zs[-l]\n",
    "            sp = sigmoid_prime(z)\n",
    "            delta = np.dot(self.weights[-l + 1].transpose(), delta) * sp\n",
    "            nabla_b[-l] = delta\n",
    "            nabla_w[-l] = np.dot(delta, activations[-l-1].transpose())\n",
    "        return nabla_b, nabla_w\n",
    "\n",
    "    def save_model(self):\n",
    "        model_params = {'sizes': self.sizes, 'num_layers': self.num_layers, 'weights': [elem.tolist() for elem in self.weights],\n",
    "                        'biases': [elem.tolist() for elem in self.biases], 'accuracy': self.accuracy}\n",
    "        file_name = input(\"Enter the name of file(without .json): \")\n",
    "        file_name = file_name.strip().lower() + \".json\"\n",
    "        try:\n",
    "            with open(file_name, \"w\") as file:\n",
    "                json.dump(model_params, file, indent=4)\n",
    "            print(f\"Model image has been created! - {file_name}\")\n",
    "        except (IOError, json.JSONDecodeError) as e:\n",
    "            print(f\"Model image creation failed!: {e}\")\n",
    "\n",
    "    def load_model(self, file_name):\n",
    "        try:\n",
    "            with open(file_name, \"r\") as file:\n",
    "                data = json.load(file)\n",
    "            print(\"JSON successfully read!\")\n",
    "            self.sizes = data['sizes']\n",
    "            self.num_layers = data['num_layers']\n",
    "            self.weights = [np.array(elem) for elem in data['weights']]\n",
    "            self.biases = [np.array(elem) for elem in data['biases']]\n",
    "            self.accuracy = data['accuracy']\n",
    "            print(\"Model loaded successfully!\")\n",
    "\n",
    "        except (IOError, FileNotFoundError) as e:\n",
    "            print(f\"Error reading file: {e}\")\n",
    "        except json.JSONDecodeError as e:\n",
    "            print(f\"Invalid JSON format: {e}\")"
   ],
   "id": "8cf22126ff31c883"
  },
  {
   "metadata": {
    "ExecuteTime": {
     "end_time": "2025-03-02T11:11:46.895162Z",
     "start_time": "2025-03-02T11:11:46.890295Z"
    }
   },
   "cell_type": "code",
   "outputs": [],
   "execution_count": 12,
   "source": [
    "n1 = Network([784, 128, 64, 10])\n",
    "# n1.print_everything()"
   ],
   "id": "a1ae57d5403e9d10"
  },
  {
   "metadata": {
    "ExecuteTime": {
     "end_time": "2025-03-02T11:10:46.067656Z",
     "start_time": "2025-03-02T11:10:36.965140Z"
    }
   },
   "cell_type": "code",
   "outputs": [
    {
     "name": "stdout",
     "output_type": "stream",
     "text": [
      "<class 'method'>\n",
      "Model image has been created! - save1.json.json\n"
     ]
    }
   ],
   "execution_count": 10,
   "source": "n1.save_model()",
   "id": "dc53f7baa1b15c6b"
  },
  {
   "metadata": {
    "ExecuteTime": {
     "end_time": "2025-03-02T11:19:50.297018Z",
     "start_time": "2025-03-02T11:11:53.248987Z"
    }
   },
   "cell_type": "code",
   "source": "n1.stochastic_gd(prepped_training_data, 50, 50, 0.03, test_data=prepped_testing_data)",
   "id": "acab8af41d895a36",
   "outputs": [
    {
     "name": "stdout",
     "output_type": "stream",
     "text": [
      "Epoch 0: 903/10000\n",
      "Epoch 1: 892/10000\n",
      "Epoch 2: 1781/10000\n",
      "Epoch 3: 2139/10000\n",
      "Epoch 4: 2481/10000\n",
      "Epoch 5: 2827/10000\n",
      "Epoch 6: 3290/10000\n",
      "Epoch 7: 3816/10000\n",
      "Epoch 8: 4223/10000\n",
      "Epoch 9: 4494/10000\n",
      "Epoch 10: 4716/10000\n",
      "Epoch 11: 4888/10000\n",
      "Epoch 12: 5053/10000\n",
      "Epoch 13: 5196/10000\n",
      "Epoch 14: 5322/10000\n",
      "Epoch 15: 5492/10000\n",
      "Epoch 16: 5647/10000\n",
      "Epoch 17: 5823/10000\n",
      "Epoch 18: 6012/10000\n",
      "Epoch 19: 6166/10000\n",
      "Epoch 20: 6323/10000\n",
      "Epoch 21: 6442/10000\n",
      "Epoch 22: 6538/10000\n",
      "Epoch 23: 6679/10000\n",
      "Epoch 24: 6759/10000\n",
      "Epoch 25: 6827/10000\n",
      "Epoch 26: 6933/10000\n",
      "Epoch 27: 7017/10000\n",
      "Epoch 28: 7086/10000\n",
      "Epoch 29: 7165/10000\n",
      "Epoch 30: 7231/10000\n",
      "Epoch 31: 7287/10000\n",
      "Epoch 32: 7335/10000\n",
      "Epoch 33: 7372/10000\n",
      "Epoch 34: 7435/10000\n",
      "Epoch 35: 7492/10000\n",
      "Epoch 36: 7529/10000\n",
      "Epoch 37: 7588/10000\n",
      "Epoch 38: 7624/10000\n",
      "Epoch 39: 7663/10000\n",
      "Epoch 40: 7719/10000\n",
      "Epoch 41: 7734/10000\n",
      "Epoch 42: 7779/10000\n",
      "Epoch 43: 7815/10000\n",
      "Epoch 44: 7844/10000\n",
      "Epoch 45: 7902/10000\n",
      "Epoch 46: 7937/10000\n",
      "Epoch 47: 7972/10000\n",
      "Epoch 48: 7999/10000\n",
      "Epoch 49: 8051/10000\n"
     ]
    }
   ],
   "execution_count": 15
  },
  {
   "metadata": {
    "ExecuteTime": {
     "end_time": "2025-03-02T11:22:04.635705Z",
     "start_time": "2025-03-02T11:20:08.498287Z"
    }
   },
   "cell_type": "code",
   "source": "n1.stochastic_gd(prepped_training_data, 10, 10, 0.01, test_data=prepped_testing_data)",
   "id": "6d45f6d369e95e95",
   "outputs": [
    {
     "name": "stdout",
     "output_type": "stream",
     "text": [
      "Epoch 0: 8100/10000\n",
      "Epoch 1: 8161/10000\n",
      "Epoch 2: 8211/10000\n",
      "Epoch 3: 8254/10000\n",
      "Epoch 4: 8298/10000\n",
      "Epoch 5: 8350/10000\n",
      "Epoch 6: 8371/10000\n",
      "Epoch 7: 8398/10000\n",
      "Epoch 8: 8436/10000\n",
      "Epoch 9: 8474/10000\n"
     ]
    }
   ],
   "execution_count": 16
  },
  {
   "metadata": {
    "ExecuteTime": {
     "end_time": "2025-03-02T11:24:06.443654Z",
     "start_time": "2025-03-02T11:22:28.063170Z"
    }
   },
   "cell_type": "code",
   "source": "n1.stochastic_gd(prepped_training_data, 10, 10, 0.015, test_data=prepped_testing_data)",
   "id": "410b845d2a4f6402",
   "outputs": [
    {
     "name": "stdout",
     "output_type": "stream",
     "text": [
      "Epoch 0: 8487/10000\n",
      "Epoch 1: 8519/10000\n",
      "Epoch 2: 8537/10000\n",
      "Epoch 3: 8569/10000\n",
      "Epoch 4: 8599/10000\n",
      "Epoch 5: 8628/10000\n",
      "Epoch 6: 8645/10000\n",
      "Epoch 7: 8666/10000\n",
      "Epoch 8: 8688/10000\n",
      "Epoch 9: 8706/10000\n"
     ]
    }
   ],
   "execution_count": 17
  },
  {
   "metadata": {
    "ExecuteTime": {
     "end_time": "2025-03-02T11:31:37.356816Z",
     "start_time": "2025-03-02T11:24:27.102524Z"
    }
   },
   "cell_type": "code",
   "source": "n1.stochastic_gd(prepped_training_data, 30, 5, 0.015, test_data=prepped_testing_data)",
   "id": "396ab884f5fa781b",
   "outputs": [
    {
     "name": "stdout",
     "output_type": "stream",
     "text": [
      "Epoch 0: 8737/10000\n",
      "Epoch 1: 8764/10000\n",
      "Epoch 2: 8797/10000\n",
      "Epoch 3: 8821/10000\n",
      "Epoch 4: 8842/10000\n",
      "Epoch 5: 8858/10000\n",
      "Epoch 6: 8883/10000\n",
      "Epoch 7: 8900/10000\n",
      "Epoch 8: 8920/10000\n",
      "Epoch 9: 8944/10000\n",
      "Epoch 10: 8962/10000\n",
      "Epoch 11: 8976/10000\n",
      "Epoch 12: 8986/10000\n",
      "Epoch 13: 8995/10000\n",
      "Epoch 14: 9006/10000\n",
      "Epoch 15: 9026/10000\n",
      "Epoch 16: 9041/10000\n",
      "Epoch 17: 9045/10000\n",
      "Epoch 18: 9054/10000\n",
      "Epoch 19: 9061/10000\n",
      "Epoch 20: 9067/10000\n",
      "Epoch 21: 9083/10000\n",
      "Epoch 22: 9078/10000\n",
      "Epoch 23: 9089/10000\n",
      "Epoch 24: 9097/10000\n",
      "Epoch 25: 9114/10000\n",
      "Epoch 26: 9118/10000\n",
      "Epoch 27: 9122/10000\n",
      "Epoch 28: 9129/10000\n",
      "Epoch 29: 9136/10000\n"
     ]
    }
   ],
   "execution_count": 18
  },
  {
   "metadata": {
    "ExecuteTime": {
     "end_time": "2025-03-02T11:34:10.618699Z",
     "start_time": "2025-03-02T11:31:57.463619Z"
    }
   },
   "cell_type": "code",
   "source": "n1.stochastic_gd(prepped_training_data, 10, 5, 0.02, test_data=prepped_testing_data)",
   "id": "b9008ec68e74d3fa",
   "outputs": [
    {
     "name": "stdout",
     "output_type": "stream",
     "text": [
      "Epoch 0: 9148/10000\n",
      "Epoch 1: 9153/10000\n",
      "Epoch 2: 9169/10000\n",
      "Epoch 3: 9175/10000\n",
      "Epoch 4: 9174/10000\n",
      "Epoch 5: 9179/10000\n",
      "Epoch 6: 9185/10000\n",
      "Epoch 7: 9205/10000\n",
      "Epoch 8: 9199/10000\n",
      "Epoch 9: 9208/10000\n"
     ]
    }
   ],
   "execution_count": 19
  },
  {
   "metadata": {
    "ExecuteTime": {
     "end_time": "2025-03-02T11:37:06.761594Z",
     "start_time": "2025-03-02T11:34:23.638796Z"
    }
   },
   "cell_type": "code",
   "source": "n1.stochastic_gd(prepped_training_data, 10, 1, 0.015, test_data=prepped_testing_data)",
   "id": "e5b1113d316f77ba",
   "outputs": [
    {
     "name": "stdout",
     "output_type": "stream",
     "text": [
      "Epoch 0: 9217/10000\n",
      "Epoch 1: 9241/10000\n",
      "Epoch 2: 9264/10000\n",
      "Epoch 3: 9286/10000\n",
      "Epoch 4: 9303/10000\n",
      "Epoch 5: 9304/10000\n",
      "Epoch 6: 9326/10000\n",
      "Epoch 7: 9343/10000\n",
      "Epoch 8: 9347/10000\n",
      "Epoch 9: 9355/10000\n"
     ]
    }
   ],
   "execution_count": 20
  },
  {
   "metadata": {
    "ExecuteTime": {
     "end_time": "2025-03-02T11:45:35.512996Z",
     "start_time": "2025-03-02T11:38:47.026989Z"
    }
   },
   "cell_type": "code",
   "source": "n1.stochastic_gd(prepped_training_data, 30, 5, 0.02, test_data=prepped_testing_data)",
   "id": "8be1ade869b4a0b5",
   "outputs": [
    {
     "name": "stdout",
     "output_type": "stream",
     "text": [
      "Epoch 0: 9370/10000\n",
      "Epoch 1: 9376/10000\n",
      "Epoch 2: 9366/10000\n",
      "Epoch 3: 9359/10000\n",
      "Epoch 4: 9363/10000\n",
      "Epoch 5: 9368/10000\n",
      "Epoch 6: 9384/10000\n",
      "Epoch 7: 9372/10000\n",
      "Epoch 8: 9384/10000\n",
      "Epoch 9: 9382/10000\n",
      "Epoch 10: 9380/10000\n",
      "Epoch 11: 9379/10000\n",
      "Epoch 12: 9386/10000\n",
      "Epoch 13: 9383/10000\n",
      "Epoch 14: 9391/10000\n",
      "Epoch 15: 9392/10000\n",
      "Epoch 16: 9386/10000\n",
      "Epoch 17: 9384/10000\n",
      "Epoch 18: 9380/10000\n",
      "Epoch 19: 9393/10000\n",
      "Epoch 20: 9392/10000\n",
      "Epoch 21: 9398/10000\n",
      "Epoch 22: 9391/10000\n",
      "Epoch 23: 9396/10000\n",
      "Epoch 24: 9404/10000\n",
      "Epoch 25: 9398/10000\n",
      "Epoch 26: 9400/10000\n",
      "Epoch 27: 9402/10000\n",
      "Epoch 28: 9402/10000\n",
      "Epoch 29: 9395/10000\n"
     ]
    }
   ],
   "execution_count": 26
  },
  {
   "metadata": {
    "ExecuteTime": {
     "end_time": "2025-03-02T11:45:49.134314Z",
     "start_time": "2025-03-02T11:45:44.658280Z"
    }
   },
   "cell_type": "code",
   "source": "n1.save_model()",
   "id": "80e60cf97822ac4b",
   "outputs": [
    {
     "name": "stdout",
     "output_type": "stream",
     "text": [
      "Model image has been created! - save_1.json\n"
     ]
    }
   ],
   "execution_count": 27
  },
  {
   "metadata": {
    "ExecuteTime": {
     "end_time": "2025-03-02T11:38:02.690631Z",
     "start_time": "2025-03-02T11:38:02.639240Z"
    }
   },
   "cell_type": "code",
   "source": "n1.load_model(\"save_1.json\")",
   "id": "2ef85c652d5011b9",
   "outputs": [
    {
     "name": "stdout",
     "output_type": "stream",
     "text": [
      "JSON successfully read!\n",
      "Model loaded successfully!\n"
     ]
    }
   ],
   "execution_count": 22
  },
  {
   "metadata": {
    "ExecuteTime": {
     "end_time": "2025-03-02T11:38:22.127603Z",
     "start_time": "2025-03-02T11:38:20.974548Z"
    }
   },
   "cell_type": "code",
   "source": [
    "# Taking sample image, processing it and running through the model.\n",
    "import cv2\n",
    "\n",
    "def load_img():\n",
    "    img = cv2.imread(\"./handwritten_numbers/Untitled.jpg\")\n",
    "    cv2.imshow(\"Original Image\", img)\n",
    "    cv2.waitKey(0)\n",
    "    cv2.destroyAllWindows()\n",
    "    return img\n",
    "\n",
    "def rotate_90_ccw(img):\n",
    "    temp = cv2.rotate(img, cv2.ROTATE_90_COUNTERCLOCKWISE)\n",
    "    cv2.imshow(\"Original Image\", temp)\n",
    "    cv2.waitKey(0)\n",
    "    cv2.destroyAllWindows()\n",
    "    return temp\n",
    "\n",
    "def resize_img(img):\n",
    "    temp = cv2.resize(img, (28, 28), interpolation=cv2.INTER_AREA)\n",
    "    cv2.imshow(\"Original Image\", temp)\n",
    "    cv2.waitKey(0)\n",
    "    cv2.destroyAllWindows()\n",
    "    return temp\n",
    "\n",
    "def convert_grayscale(img):\n",
    "    temp = cv2.cvtColor(img, cv2.COLOR_BGR2GRAY)\n",
    "    cv2.imshow(\"Original Image\", temp)\n",
    "    cv2.waitKey(0)\n",
    "    cv2.destroyAllWindows()\n",
    "    return temp\n",
    "\n",
    "def save_img(img):\n",
    "    cv2.imwrite(\"processed_numbers_1.jpg\", img)\n",
    "    return None\n",
    "\n",
    "def processed_img():\n",
    "    temp_img = load_img()\n",
    "    temp_img = convert_grayscale(temp_img)\n",
    "    temp_img = resize_img(temp_img)\n",
    "    temp_img = np.reshape(temp_img, (784, 1))\n",
    "    normalized_arr = temp_img / 255.0\n",
    "    inverse_arr = 1 - normalized_arr\n",
    "    return inverse_arr"
   ],
   "id": "6ef6f8574c608166",
   "outputs": [],
   "execution_count": 24
  },
  {
   "metadata": {
    "ExecuteTime": {
     "end_time": "2025-03-02T11:38:31.521089Z",
     "start_time": "2025-03-02T11:38:22.133183Z"
    }
   },
   "cell_type": "code",
   "source": [
    "input_img = processed_img()\n",
    "ans = n1.feedforward(input_img)\n",
    "print(np.argmax(softmax(ans)))"
   ],
   "id": "bf806fd3de3bbd98",
   "outputs": [
    {
     "name": "stdout",
     "output_type": "stream",
     "text": [
      "4\n"
     ]
    }
   ],
   "execution_count": 25
  },
  {
   "metadata": {},
   "cell_type": "code",
   "source": "",
   "id": "6ca4d2cd192fa4bc",
   "outputs": [],
   "execution_count": null
  }
 ],
 "metadata": {
  "kernelspec": {
   "display_name": "Python 3",
   "language": "python",
   "name": "python3"
  },
  "language_info": {
   "codemirror_mode": {
    "name": "ipython",
    "version": 2
   },
   "file_extension": ".py",
   "mimetype": "text/x-python",
   "name": "python",
   "nbconvert_exporter": "python",
   "pygments_lexer": "ipython2",
   "version": "2.7.6"
  }
 },
 "nbformat": 4,
 "nbformat_minor": 5
}
