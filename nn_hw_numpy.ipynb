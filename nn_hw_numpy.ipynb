{
 "cells": [
  {
   "metadata": {
    "collapsed": true,
    "ExecuteTime": {
     "end_time": "2025-03-01T14:21:01.461577Z",
     "start_time": "2025-03-01T14:21:01.458170Z"
    }
   },
   "cell_type": "code",
   "source": [
    "import random\n",
    "import cupy as cp\n",
    "import numpy as np\n",
    "import matplotlib.pyplot as plt"
   ],
   "id": "initial_id",
   "outputs": [],
   "execution_count": 70
  },
  {
   "metadata": {
    "ExecuteTime": {
     "end_time": "2025-03-01T14:21:01.696111Z",
     "start_time": "2025-03-01T14:21:01.692092Z"
    }
   },
   "cell_type": "code",
   "source": [
    "# Visualisation\n",
    "def display_image(array):\n",
    "    if array.shape != (28, 28):\n",
    "        raise ValueError(\"Input array must be 28x28 in shape.\")\n",
    "\n",
    "    plt.imshow(array, cmap='gray', interpolation='nearest')\n",
    "    plt.axis('off')  # Hide axis for better visualization\n",
    "    plt.show()"
   ],
   "id": "b704362145e67a34",
   "outputs": [],
   "execution_count": 71
  },
  {
   "metadata": {
    "ExecuteTime": {
     "end_time": "2025-03-01T14:21:02.010027Z",
     "start_time": "2025-03-01T14:21:02.005888Z"
    }
   },
   "cell_type": "code",
   "source": [
    "def softmax(x):\n",
    "    x_exp = np.exp(x - np.max(x))  # Stabilized exponentiation\n",
    "    return x_exp / np.sum(x_exp)"
   ],
   "id": "bf3664adfb085eb2",
   "outputs": [],
   "execution_count": 72
  },
  {
   "metadata": {
    "ExecuteTime": {
     "end_time": "2025-03-01T14:21:02.380300Z",
     "start_time": "2025-03-01T14:21:02.377038Z"
    }
   },
   "cell_type": "code",
   "source": [
    "def cost_derivative(activation, y):\n",
    "    return activation - y"
   ],
   "id": "3da02005802af1b1",
   "outputs": [],
   "execution_count": 73
  },
  {
   "metadata": {
    "ExecuteTime": {
     "end_time": "2025-03-01T14:21:02.876925Z",
     "start_time": "2025-03-01T14:21:02.863058Z"
    }
   },
   "cell_type": "code",
   "source": [
    "def sigmoid(z):\n",
    "    return 1.0/ (1.0 + np.exp(-z))\n",
    "\n",
    "\n",
    "def sigmoid_prime(z):\n",
    "    return sigmoid(z) * (1 - sigmoid(z))\n",
    "\n",
    "\n",
    "class Network(object):\n",
    "    def __init__(self, sizes):\n",
    "        \"\"\"\n",
    "        creates the network\n",
    "        :param sizes: list containing the number of neurons in each layer, eg: [2, 3, 1] -> 2 neurons, 3 neurons, 1 neuron\n",
    "        \"\"\"\n",
    "        self.num_layers = len(sizes)    # gives the number of layers of neurons\n",
    "        self.sizes = sizes              # stores the sizes\n",
    "        self.biases = [np.random.randn(y, 1) for y in sizes[1:]]\n",
    "        # stores the random biases: [np.array([[-1.2323], [2.3434], ...]),\n",
    "        #                           np.array([-1.2323], [2.3434], ...)] depending upon sizes, total sizes - 1 elements, each with y elements(for y in sizes[1:])\n",
    "        self.weights = [np.random.randn(y, x) for x, y in zip(sizes[:-1], sizes[1:])]\n",
    "        # stores the random weights, initialised such that there is a weight for each of the connections\n",
    "        # if we take the [2, 3, 1] example, we have the following zips: (2, 3), (3, 1) -> we get [3 elems of 2 random values in each] + [1 elem with 3 random values in it] =>\n",
    "        #                                                                                           [np.array([1.2, 2.3], np.array([4.5, 4.5]), np.array([5.6, 7.8]), np.array([3.3, 7.7, 9.9])]\n",
    "\n",
    "    def print_everything(self):\n",
    "        print(f\"number of layers: {self.num_layers}\")\n",
    "        print(f\"sizes: {self.sizes}\")\n",
    "        print(f\"biases: {self.biases}\")\n",
    "        print(f\"weights: {self.weights}\")\n",
    "\n",
    "    def feedforward(self, a):\n",
    "        \"\"\"\n",
    "        calculates the output, given a as input, essentially turning the network on\n",
    "        :param a: a numpy array of shape: (n, 1), for handwriting detection, would be a single column array with the pixel values\n",
    "        :return: returns a numpy array with sizes[-1] values\n",
    "        \"\"\"\n",
    "        # print(f\"The shape of the input a is: {a.shape}, should of the format (n, 1)\")\n",
    "        a = np.reshape(a, (self.sizes[0], 1))\n",
    "        # print(f\"The shape of the input a is: {a.shape}, should of the format (n, 1)\")\n",
    "        for b, w in zip(self.biases[:-1], self.weights[:-1]):\n",
    "            a = sigmoid(cp.dot(w, a) + b)\n",
    "            # print(f\"a: {a}\")\n",
    "        a = softmax(cp.dot(self.weights[-1], a) + self.biases[-1])\n",
    "        return a\n",
    "\n",
    "    def stochastic_gd(self, training_data, epochs, mini_batch_size, eta, test_data=None):\n",
    "        \"\"\"\n",
    "        Training the neural network using the stochastic gradient descent. Stochastic => batches of data.\n",
    "\n",
    "        Working:\n",
    "            for each epoch, it randomly shuffles the data, partitions it into the appropriate size of batches, and for each mini_batch we apply 1 step of gradient descent\n",
    "            the single step of gradient descent is done by the step \"self.update_mini_batch(mini_batch, eta)\" -> updating the network's weights and biases\n",
    "        :param training_data: list of tuples (x, y) representing training inputs and desired outputs\n",
    "        :param epochs: the number of epochs to train for\n",
    "        :param mini_batch_size: the size of the mini_batches to use for training\n",
    "        :param eta: the learning rate\n",
    "        :param test_data: if provided, then the network will be evaluated against the test data after each epoch, and partial progress will be printed out, this is slow\n",
    "        :return: None, updates the neural network's weights and biases\n",
    "        \"\"\"\n",
    "        if test_data:\n",
    "            n_test = len(test_data)\n",
    "        n = len(training_data)\n",
    "        for j in range(epochs):\n",
    "            random.shuffle(training_data)\n",
    "            mini_batches = [training_data[k: k + mini_batch_size] for k in range(0, n, mini_batch_size)]\n",
    "            for mini_batch in mini_batches:\n",
    "                self.update_mini_batch(mini_batch, eta)\n",
    "            if test_data:\n",
    "                print(f\"Epoch {j}: {self.evaluate(test_data)}/{n_test}\")\n",
    "            else:\n",
    "                print(f\"Epoch {j} completed\")\n",
    "\n",
    "\n",
    "    def evaluate(self, testing_data):\n",
    "        \"\"\"\n",
    "        evaluates the model after every single epoch.\n",
    "        :param testing_data: list of tuples (x, y) of testing data, x is the np array of the image, y is the expected output, a number from 0 - 9\n",
    "        :return: the total number of correct matches\n",
    "        \"\"\"\n",
    "        matches = 0\n",
    "        for i, data in enumerate(testing_data):\n",
    "            temp = self.feedforward(data[0])\n",
    "            predicted_number = np.argmax(temp)\n",
    "            # print(f\"predicted_number: {predicted_number}, actual_number: {data[1]}\")\n",
    "            if predicted_number == data[1]:\n",
    "                matches += 1\n",
    "        return matches\n",
    "\n",
    "\n",
    "    def update_mini_batch(self, mini_batch, eta):\n",
    "        \"\"\"\n",
    "        Update the networks's weights and biases by applying gradient descent using backprop, to a single mini_batch.\n",
    "        :param mini_batch: list of tuples, (x, y)\n",
    "        :param eta: learning rate eta\n",
    "        :return:\n",
    "        \"\"\"\n",
    "        nabla_b = [np.zeros(b.shape) for b in self.biases]\n",
    "        nabla_w = [np.zeros(w.shape) for w in self.weights]\n",
    "        for x, y in mini_batch:\n",
    "            delta_nabla_b, delta_nabla_w = self.backprop(x, y)\n",
    "            nabla_b = [nb + dnb for nb, dnb in zip(nabla_b, delta_nabla_b)]\n",
    "            nabla_w = [nw + dnw for nw, dnw in zip(nabla_w, delta_nabla_w)]\n",
    "        self.weights = [w - (eta/len(mini_batch)) * nw for w, nw in zip(self.weights, nabla_w)]\n",
    "        self.biases = [b - (eta/len(mini_batch)) * nb for b, nb in zip(self.biases, nabla_b)]\n",
    "\n",
    "    def backprop(self, x, y):\n",
    "        \"\"\"\n",
    "\n",
    "        :param x: input to the neural network, for handwriting NN example, array of pixel activation values\n",
    "        :param y: the labelled output of what x should be, for handwriting NN example, a single digit [0-9]\n",
    "        :return: a tuple (nabla_b, nabla_w) representing the gradient of the cost_function (gradient of cost_function calculates in which direction it increases the most)\n",
    "                nabla_b and nabla_w are lists for each layer, just like self.weights and self.biases\n",
    "        \"\"\"\n",
    "        nabla_b = [np.zeros(b.shape) for b in self.biases]\n",
    "        nabla_w = [np.zeros(w.shape) for w in self.weights]\n",
    "\n",
    "        # feedforward to get the prediction of the NN for the given x input\n",
    "        x = np.reshape(x, (self.sizes[0], 1))\n",
    "        activation = x  # currently stores the input as the activation of layer 0\n",
    "        activations = [x] # list to store all the activations, layer by layer, already consists of activation of layer 0, the input\n",
    "        zs = [] # list to store all the z vectors, layer by layer\n",
    "        for b, w in zip(self.biases, self.weights):\n",
    "            z = np.dot(w, activation) + b\n",
    "            zs.append(z)\n",
    "            activation = sigmoid(z)\n",
    "            activations.append(activation)\n",
    "\n",
    "        # backward pass\n",
    "        delta = cost_derivative(activations[-1], y) * sigmoid_prime(zs[-1])\n",
    "        nabla_b[-1] = delta\n",
    "        nabla_w[-1] = np.dot(delta, activations[-2].transpose())        # this is completely relying on the fact that the orders work, fix this\n",
    "\n",
    "        for l in range(2, self.num_layers):\n",
    "            # l ranges from 2 all the way till number of layers - 1, so if total number of layers = 3, so, l = 2... that's it\n",
    "            z = zs[-l]\n",
    "            sp = sigmoid_prime(z)\n",
    "            delta = np.dot(self.weights[-l + 1].transpose(), delta) * sp\n",
    "            nabla_b[-l] = delta\n",
    "            nabla_w[-l] = np.dot(delta, activations[-l-1].transpose())\n",
    "        return nabla_b, nabla_w"
   ],
   "id": "8cf22126ff31c883",
   "outputs": [],
   "execution_count": 74
  },
  {
   "metadata": {
    "ExecuteTime": {
     "end_time": "2025-03-01T14:21:12.992313Z",
     "start_time": "2025-03-01T14:21:12.987293Z"
    }
   },
   "cell_type": "code",
   "source": [
    "n1 = Network([784, 128, 64, 10])\n",
    "# n1.print_everything()"
   ],
   "id": "a1ae57d5403e9d10",
   "outputs": [],
   "execution_count": 75
  },
  {
   "metadata": {
    "ExecuteTime": {
     "end_time": "2025-03-01T14:21:14.176145Z",
     "start_time": "2025-03-01T14:21:13.608116Z"
    }
   },
   "cell_type": "code",
   "source": [
    "# Loading the data\n",
    "import pickle\n",
    "import gzip\n",
    "\n",
    "def load_data():\n",
    "    f = gzip.open('mnist.pkl.gz', 'rb')\n",
    "    u = pickle._Unpickler(f)\n",
    "    u.encoding = 'latin1'\n",
    "    training_data, validation_data, test_data = u.load()\n",
    "    f.close()\n",
    "    return training_data, validation_data, test_data\n",
    "\n",
    "data = load_data()\n",
    "\n",
    "training_data = data[0]\n",
    "testing_data = data[1]\n",
    "\n",
    "training_data_inputs = training_data[0]\n",
    "training_data_outputs = training_data[1]\n",
    "\n",
    "prepped_training_data_inputs = np.array([np.reshape(elem, (784, 1)) for elem in training_data_inputs])\n",
    "\n",
    "prepped_training_data_outputs = np.zeros((50000, 10, 1))\n",
    "prepped_training_data_outputs[np.arange(50000), training_data_outputs, 0] = 1\n",
    "\n",
    "prepped_training_data = [(a, b) for a, b in zip(prepped_training_data_inputs, prepped_training_data_outputs)]"
   ],
   "id": "2c43b163104e388e",
   "outputs": [],
   "execution_count": 76
  },
  {
   "metadata": {
    "ExecuteTime": {
     "end_time": "2025-03-01T14:21:14.209916Z",
     "start_time": "2025-03-01T14:21:14.181892Z"
    }
   },
   "cell_type": "code",
   "source": [
    "# Prepping the testing data\n",
    "testing_data_inputs = testing_data[0]\n",
    "prepped_testing_data_inputs = np.array([np.reshape(elem, (784, 1)) for elem in testing_data_inputs])\n",
    "prepped_testing_data_outputs = testing_data[1]\n",
    "# img_array = np.reshape(prepped_testing_data_inputs[88], (28, 28))\n",
    "# display_image(img_array)\n",
    "prepped_testing_data = list(zip(prepped_testing_data_inputs, prepped_testing_data_outputs))"
   ],
   "id": "fc05516d2f92b7ac",
   "outputs": [],
   "execution_count": 77
  },
  {
   "metadata": {
    "jupyter": {
     "is_executing": true
    },
    "ExecuteTime": {
     "start_time": "2025-03-01T14:21:14.855474Z"
    }
   },
   "cell_type": "code",
   "source": "n1.stochastic_gd(prepped_training_data, 50, 50, 0.02, test_data=prepped_testing_data)",
   "id": "acab8af41d895a36",
   "outputs": [
    {
     "name": "stdout",
     "output_type": "stream",
     "text": [
      "Epoch 0: 1253/10000\n",
      "Epoch 1: 1516/10000\n",
      "Epoch 2: 1817/10000\n",
      "Epoch 3: 2131/10000\n",
      "Epoch 4: 2440/10000\n",
      "Epoch 5: 2759/10000\n",
      "Epoch 6: 3029/10000\n",
      "Epoch 7: 3238/10000\n",
      "Epoch 8: 3428/10000\n",
      "Epoch 9: 3607/10000\n",
      "Epoch 10: 3772/10000\n",
      "Epoch 11: 3936/10000\n",
      "Epoch 12: 4078/10000\n",
      "Epoch 13: 4191/10000\n",
      "Epoch 14: 4324/10000\n",
      "Epoch 15: 4461/10000\n",
      "Epoch 16: 4605/10000\n",
      "Epoch 17: 4800/10000\n",
      "Epoch 18: 4980/10000\n",
      "Epoch 19: 5145/10000\n",
      "Epoch 20: 5319/10000\n",
      "Epoch 21: 5491/10000\n",
      "Epoch 22: 5676/10000\n",
      "Epoch 23: 5864/10000\n",
      "Epoch 24: 6051/10000\n",
      "Epoch 25: 6193/10000\n",
      "Epoch 26: 6326/10000\n",
      "Epoch 27: 6434/10000\n",
      "Epoch 28: 6538/10000\n",
      "Epoch 29: 6613/10000\n",
      "Epoch 30: 6696/10000\n",
      "Epoch 31: 6765/10000\n",
      "Epoch 32: 6819/10000\n"
     ]
    }
   ],
   "execution_count": null
  }
 ],
 "metadata": {
  "kernelspec": {
   "display_name": "Python 3",
   "language": "python",
   "name": "python3"
  },
  "language_info": {
   "codemirror_mode": {
    "name": "ipython",
    "version": 2
   },
   "file_extension": ".py",
   "mimetype": "text/x-python",
   "name": "python",
   "nbconvert_exporter": "python",
   "pygments_lexer": "ipython2",
   "version": "2.7.6"
  }
 },
 "nbformat": 4,
 "nbformat_minor": 5
}
